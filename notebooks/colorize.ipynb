{
 "cells": [
  {
   "cell_type": "markdown",
   "metadata": {},
   "source": [
    "Two packages must be installed with admin priviledges\n",
    "\n",
    "**from testing you NEED to install these specific versions**\n",
    "- fastai==1.0.60\n",
    "- tensorboardX>=1.6\n",
    "- ffmpeg-python\n",
    "- yt-dlp\n",
    "- opencv-python>=4.2.0.32\n",
    "- Pillow\n",
    "- tornado\n",
    "- imgaug==0.2.6\n",
    "\n",
    "I ran into an error with filepaths around where the models should be kept. To keep it simple, this is how your directory structure should look\n",
    "- Top-dir\n",
    " - notebooks\n",
    "    - models\n",
    "    - result_images\n",
    "    - test_images\n",
    "\n",
    "c:\\Python310\\lib\\site-packages\\fastai\\core.py\n",
    "\n",
    "have to install ffmpeg\n",
    "- download\n",
    "- add ffmpeg to environmental variables PATH\n",
    "\n",
    "Ensure latest version of ffmpeg is installed. \n"
   ]
  },
  {
   "cell_type": "code",
   "execution_count": null,
   "metadata": {},
   "outputs": [],
   "source": [
    "import fastai\n",
    "from deoldify.visualize import *\n"
   ]
  },
  {
   "cell_type": "code",
   "execution_count": null,
   "metadata": {},
   "outputs": [],
   "source": [
    "colorizer = get_image_colorizer(artistic=False)\n"
   ]
  },
  {
   "cell_type": "code",
   "execution_count": null,
   "metadata": {},
   "outputs": [],
   "source": [
    "source_url = 'https://i.natgeofe.com/n/f4b0a25e-2883-4df3-8e15-674c89b332fd/iwo-jima-flag-raising-joe-rosenthal-world-war-two_4x3.jpg' #@param {type:”string”}\n",
    "render_factor = 28 #@param {type: “slider”, min: 7, max: 40}\n",
    "watermarked = True #@param {type:”boolean”}\n",
    "if source_url is not None and source_url !='':\n",
    "    image_path = colorizer.plot_transformed_image_from_url(url=source_url, render_factor=render_factor, compare=True, watermarked=watermarked)\n",
    "    show_image_in_notebook(image_path)\n",
    "else:\n",
    "    print('Provide an image url and try again.')"
   ]
  },
  {
   "cell_type": "code",
   "execution_count": null,
   "metadata": {},
   "outputs": [],
   "source": [
    "from fastai.vision import open_image\n",
    "\n",
    "# Path to your local image file\n",
    "local_image_path = 'C:\\\\Users\\\\drcom\\\\OneDrive\\\\Documents\\\\Python\\\\colorize\\\\notebooks\\\\images\\\\1718760466166_8319850942_ea5e0304.jpg'\n",
    "\n",
    "render_factor = 30  # Render factor value\n",
    "watermarked = False  # Watermarked boolean value\n",
    "\n",
    "if local_image_path is not None and local_image_path != '':\n",
    "    # Open the image from local file directory\n",
    "    #image = open_image(local_image_path)\n",
    "    \n",
    "    # Plot and transform the image\n",
    "    image_path = colorizer.plot_transformed_image(path=local_image_path, render_factor=render_factor, compare=True, watermarked=watermarked)\n",
    "    \n",
    "    # Show the transformed image in the notebook\n",
    "    show_image_in_notebook(image_path)\n",
    "else:\n",
    "    print('Provide an image path and try again.')\n"
   ]
  },
  {
   "cell_type": "code",
   "execution_count": null,
   "metadata": {},
   "outputs": [],
   "source": [
    "pip install ffmpeg-python"
   ]
  },
  {
   "cell_type": "code",
   "execution_count": 1,
   "metadata": {},
   "outputs": [
    {
     "name": "stdout",
     "output_type": "stream",
     "text": [
      "NumExpr defaulting to 8 threads.\n"
     ]
    }
   ],
   "source": [
    "import fastai\n",
    "from deoldify.visualize import *\n"
   ]
  },
  {
   "cell_type": "code",
   "execution_count": 2,
   "metadata": {},
   "outputs": [],
   "source": [
    "import ffmpeg"
   ]
  },
  {
   "cell_type": "code",
   "execution_count": 2,
   "metadata": {},
   "outputs": [
    {
     "name": "stdout",
     "output_type": "stream",
     "text": [
      "CUDA (GPU) is not available. Running on CPU might be slow.\n"
     ]
    }
   ],
   "source": [
    "\n",
    "\n",
    "import torch\n",
    "\n",
    "# Ensure you're using GPU if available\n",
    "if not torch.cuda.is_available():\n",
    "    print(\"CUDA (GPU) is not available. Running on CPU might be slow.\")\n"
   ]
  },
  {
   "cell_type": "code",
   "execution_count": 3,
   "metadata": {},
   "outputs": [
    {
     "name": "stderr",
     "output_type": "stream",
     "text": [
      "c:\\Python310\\lib\\site-packages\\fastai\\data_block.py:454: UserWarning: Your training set is empty. If this is by design, pass `ignore_empty=True` to remove this warning.\n",
      "  warn(\"Your training set is empty. If this is by design, pass `ignore_empty=True` to remove this warning.\")\n",
      "c:\\Python310\\lib\\site-packages\\fastai\\data_block.py:456: UserWarning: Your validation set is empty. If this is by design, use `split_none()`\n",
      "                 or pass `ignore_empty=True` when labelling to remove this warning.\n",
      "  warn(\"\"\"Your validation set is empty. If this is by design, use `split_none()`\n",
      "C:\\Users\\drcom\\AppData\\Roaming\\Python\\Python310\\site-packages\\torchvision\\models\\_utils.py:135: UserWarning: Using 'weights' as positional parameter(s) is deprecated since 0.13 and may be removed in the future. Please use keyword parameter(s) instead.\n",
      "  warnings.warn(\n",
      "C:\\Users\\drcom\\AppData\\Roaming\\Python\\Python310\\site-packages\\torchvision\\models\\_utils.py:223: UserWarning: Arguments other than a weight enum or `None` for 'weights' are deprecated since 0.13 and may be removed in the future. The current behavior is equivalent to passing `weights=ResNet101_Weights.IMAGENET1K_V1`. You can also use `weights=ResNet101_Weights.DEFAULT` to get the most up-to-date weights.\n",
      "  warnings.warn(msg)\n",
      "C:\\Users\\drcom\\AppData\\Roaming\\Python\\Python310\\site-packages\\torch\\nn\\utils\\weight_norm.py:28: UserWarning: torch.nn.utils.weight_norm is deprecated in favor of torch.nn.utils.parametrizations.weight_norm.\n",
      "  warnings.warn(\"torch.nn.utils.weight_norm is deprecated in favor of torch.nn.utils.parametrizations.weight_norm.\")\n"
     ]
    }
   ],
   "source": [
    "from deoldify.visualize import get_video_colorizer\n",
    "\n",
    "# Initialize the video colorizer\n",
    "video_colorizer = get_video_colorizer()\n"
   ]
  },
  {
   "cell_type": "code",
   "execution_count": 5,
   "metadata": {},
   "outputs": [],
   "source": [
    "\n",
    "# Colorize a video from a file with specific render factor and artistic model\n",
    "render_factor = 30  # Render factor value\n",
    "file_name = 'notebooks\\whats_the_joke.mp4'\n"
   ]
  },
  {
   "cell_type": "code",
   "execution_count": 6,
   "metadata": {},
   "outputs": [
    {
     "name": "stdout",
     "output_type": "stream",
     "text": [
      "The file does not exist at notebooks\\whats_the_joke.mp4\n"
     ]
    }
   ],
   "source": [
    "# Check if the file exists\n",
    "if os.path.exists(file_name):\n",
    "    try:\n",
    "        video_colorizer.colorize_from_file_name(file_name=file_name, render_factor=render_factor)\n",
    "        print(f\"Video colorization complete for {file_name}\")\n",
    "    except Exception as e:\n",
    "        print(f\"An error occurred: {e}\")\n",
    "else:\n",
    "    print(f\"The file does not exist at {file_name}\")"
   ]
  },
  {
   "cell_type": "code",
   "execution_count": 7,
   "metadata": {},
   "outputs": [
    {
     "name": "stdout",
     "output_type": "stream",
     "text": [
      "The file exists at C:/Users/drcom/OneDrive/Documents/Python/colorize/notebooks/whats_the_joke.mp4\n"
     ]
    }
   ],
   "source": [
    "import os\n",
    "\n",
    "file_path = r'C:/Users/drcom/OneDrive/Documents/Python/colorize/notebooks/whats_the_joke.mp4'\n",
    "\n",
    "if os.path.exists(file_path):\n",
    "    print(f\"The file exists at {file_path}\")\n",
    "else:\n",
    "    print(f\"The file does not exist at {file_path}\")\n"
   ]
  },
  {
   "cell_type": "code",
   "execution_count": 9,
   "metadata": {},
   "outputs": [
    {
     "name": "stdout",
     "output_type": "stream",
     "text": [
      "Contents of the directory 'C:/Users/drcom/OneDrive/Documents/Python/colorize/notebooks':\n",
      "['4.2.0.32', 'colorize.ipynb', 'images', 'models', 'result_images', 'test_images', 'video', 'videos', 'whats_the_joke.mp4']\n"
     ]
    }
   ],
   "source": [
    "# List contents of the directory\n",
    "directory = os.path.dirname(file_path)\n",
    "print(f\"Contents of the directory '{directory}':\")\n",
    "print(os.listdir(directory))"
   ]
  },
  {
   "cell_type": "code",
   "execution_count": 10,
   "metadata": {},
   "outputs": [
    {
     "name": "stdout",
     "output_type": "stream",
     "text": [
      "The file exists. Proceeding with colorization.\n"
     ]
    }
   ],
   "source": [
    "# Check if the file exists\n",
    "if os.path.exists(file_path):\n",
    "    print(\"The file exists. Proceeding with colorization.\")\n",
    "    try:\n",
    "        video_colorizer.colorize_from_file_name(file_name=file_name, render_factor=render_factor)\n",
    "        print(f\"Video colorization complete for {file_path}\")\n",
    "    except Exception as e:\n",
    "        print(f\"An error occurred: {e}\")\n",
    "else:\n",
    "    print(f\"The file does not exist at {file_path}\")"
   ]
  }
 ],
 "metadata": {
  "kernelspec": {
   "display_name": "Python 3",
   "language": "python",
   "name": "python3"
  },
  "language_info": {
   "codemirror_mode": {
    "name": "ipython",
    "version": 3
   },
   "file_extension": ".py",
   "mimetype": "text/x-python",
   "name": "python",
   "nbconvert_exporter": "python",
   "pygments_lexer": "ipython3",
   "version": "3.10.1"
  }
 },
 "nbformat": 4,
 "nbformat_minor": 2
}
